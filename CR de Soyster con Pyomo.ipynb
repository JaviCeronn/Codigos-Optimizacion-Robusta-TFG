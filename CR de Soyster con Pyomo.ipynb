{
 "cells": [
  {
   "cell_type": "code",
   "execution_count": 1,
   "id": "05c2220a",
   "metadata": {},
   "outputs": [],
   "source": [
    "import numpy as np\n",
    "import cvxpy as cp\n",
    "from scipy.io import loadmat\n",
    "import pyomo.environ as pe"
   ]
  },
  {
   "cell_type": "markdown",
   "id": "c56d785a",
   "metadata": {},
   "source": [
    "# Para b_media"
   ]
  },
  {
   "cell_type": "markdown",
   "id": "4e1ac6ac",
   "metadata": {},
   "source": [
    "# Intervalo entorno a la media"
   ]
  },
  {
   "cell_type": "markdown",
   "id": "95a30bf5",
   "metadata": {},
   "source": [
    "Importar datos del problema"
   ]
  },
  {
   "cell_type": "code",
   "execution_count": 2,
   "id": "ef5b367b",
   "metadata": {},
   "outputs": [],
   "source": [
    "data = loadmat(\"Datos_Manufacturing_media.mat\")\n",
    "A_media = data['A_media']\n",
    "A_hat_media = data['A_hat_media']\n",
    "b_media = data['b_media'].flatten()\n",
    "\n",
    "c = np.array([1.0,1.0,1.0,1.0,1.0]) "
   ]
  },
  {
   "cell_type": "code",
   "execution_count": 3,
   "id": "88adb4e0",
   "metadata": {},
   "outputs": [
    {
     "name": "stdout",
     "output_type": "stream",
     "text": [
      "Read LP format model from file C:\\Users\\javie\\AppData\\Local\\Temp\\tmpt4s2ix4v.pyomo.lp\n",
      "Reading time = 0.02 seconds\n",
      "x1: 13 rows, 10 columns, 50 nonzeros\n",
      "Gurobi Optimizer version 12.0.2 build v12.0.2rc0 (win64 - Windows 11.0 (26100.2))\n",
      "\n",
      "CPU model: AMD Ryzen 7 5800H with Radeon Graphics, instruction set [SSE2|AVX|AVX2]\n",
      "Thread count: 8 physical cores, 16 logical processors, using up to 16 threads\n",
      "\n",
      "Academic license 2679891 - for non-commercial use only - registered to jc___@al.uloyola.es\n",
      "Optimize a model with 13 rows, 10 columns and 50 nonzeros\n",
      "Model fingerprint: 0x3ee11f9b\n",
      "Coefficient statistics:\n",
      "  Matrix range     [1e-01, 7e+01]\n",
      "  Objective range  [1e+00, 1e+00]\n",
      "  Bounds range     [0e+00, 0e+00]\n",
      "  RHS range        [7e+01, 2e+03]\n",
      "Presolve removed 10 rows and 5 columns\n",
      "Presolve time: 0.02s\n",
      "Presolved: 3 rows, 5 columns, 15 nonzeros\n",
      "\n",
      "Iteration    Objective       Primal Inf.    Dual Inf.      Time\n",
      "       0    2.1613118e+01   0.000000e+00   0.000000e+00      0s\n",
      "       0    2.1613118e+01   0.000000e+00   0.000000e+00      0s\n",
      "\n",
      "Solved in 0 iterations and 0.02 seconds (0.00 work units)\n",
      "Optimal objective  2.161311768e+01\n",
      "Termination: optimal\n",
      "x[0] = 0.000000e+00\n",
      "x[1] = 0.000000e+00\n",
      "x[2] = 0.000000e+00\n",
      "x[3] = 0.000000e+00\n",
      "x[4] = 2.161312e+01\n",
      "Obj = 2.161312e+01\n"
     ]
    }
   ],
   "source": [
    "# ─── Dimensiones ────────────────────────────────────────────────────────────────\n",
    "M, N = A_media.shape  # M restricciones, N variables\n",
    "\n",
    "# ─── Crear modelo ───────────────────────────────────────────────────────────────\n",
    "m = pe.ConcreteModel()\n",
    "\n",
    "# Variables de decisión\n",
    "m.x = pe.Var(range(N), domain=pe.NonNegativeReals)\n",
    "m.y = pe.Var(range(N), domain=pe.NonNegativeReals)  # y[j] ≥ |x[j]|\n",
    "\n",
    "# ─── Función objetivo: maximizar cᵀx ─────────────────────────────────────────────\n",
    "m.obj = pe.Objective(expr=sum(c[j] * m.x[j] for j in range(N)), sense=pe.maximize)\n",
    "\n",
    "# ─── Relación y_j ≥ |x_j| ───────────────────────────────────────────────────────\n",
    "for j in range(N):\n",
    "    m.add_component(f\"abs_x_pos_{j}\", pe.Constraint(expr= m.y[j] >=  m.x[j]))\n",
    "    m.add_component(f\"abs_x_neg_{j}\", pe.Constraint(expr= m.y[j] >= -m.x[j]))\n",
    "\n",
    "# ─── Restricciones robustas (Soyster) ───────────────────────────────────────────\n",
    "for i in range(M):\n",
    "    nom = sum(A_media[i, j] * m.x[j] for j in range(N))\n",
    "    dev = sum(A_hat_media[i, j] * m.y[j] for j in range(N))\n",
    "    m.add_component(\n",
    "        f\"robust_con_{i}\",\n",
    "        pe.Constraint(expr= nom + dev <= b_media[i])\n",
    "    )\n",
    "\n",
    "# ─── Resolver el problema ───────────────────────────────────────────────────────\n",
    "solver = pe.SolverFactory('gurobi')\n",
    "result = solver.solve(m, tee=True)\n",
    "\n",
    "# ─── Mostrar resultados ─────────────────────────────────────────────────────────\n",
    "print(\"Termination:\", result.solver.termination_condition)\n",
    "if result.solver.termination_condition == pe.TerminationCondition.optimal:\n",
    "    for j in range(N):\n",
    "        x_val = pe.value(m.x[j])\n",
    "        print(f\"x[{j}] = {x_val:.6e}\")\n",
    "    print(f\"Obj = {pe.value(m.obj):.6e}\")\n",
    "else:\n",
    "    print(\"No se encontró solución óptima.\")"
   ]
  },
  {
   "cell_type": "markdown",
   "id": "0b61e395",
   "metadata": {},
   "source": [
    "# Intervalo [min max]"
   ]
  },
  {
   "cell_type": "code",
   "execution_count": 4,
   "id": "b8f13482",
   "metadata": {},
   "outputs": [],
   "source": [
    "data = loadmat(\"Datos_Manufacturing_MinMax.mat\")\n",
    "A_MinMax = data['A_MinMax']\n",
    "A_hat_MinMax = data['A_hat_MinMax']\n",
    "b_media = data['b_media'].flatten()\n",
    "\n",
    "c = np.array([1.0,1.0,1.0,1.0,1.0]) "
   ]
  },
  {
   "cell_type": "code",
   "execution_count": 5,
   "id": "06a00027",
   "metadata": {},
   "outputs": [
    {
     "name": "stdout",
     "output_type": "stream",
     "text": [
      "Read LP format model from file C:\\Users\\javie\\AppData\\Local\\Temp\\tmpsm4s6w6q.pyomo.lp\n",
      "Reading time = 0.01 seconds\n",
      "x1: 13 rows, 10 columns, 50 nonzeros\n",
      "Gurobi Optimizer version 12.0.2 build v12.0.2rc0 (win64 - Windows 11.0 (26100.2))\n",
      "\n",
      "CPU model: AMD Ryzen 7 5800H with Radeon Graphics, instruction set [SSE2|AVX|AVX2]\n",
      "Thread count: 8 physical cores, 16 logical processors, using up to 16 threads\n",
      "\n",
      "Academic license 2679891 - for non-commercial use only - registered to jc___@al.uloyola.es\n",
      "Optimize a model with 13 rows, 10 columns and 50 nonzeros\n",
      "Model fingerprint: 0x213b86e7\n",
      "Coefficient statistics:\n",
      "  Matrix range     [1e+00, 7e+01]\n",
      "  Objective range  [1e+00, 1e+00]\n",
      "  Bounds range     [0e+00, 0e+00]\n",
      "  RHS range        [7e+01, 2e+03]\n",
      "Presolve removed 10 rows and 5 columns\n",
      "Presolve time: 0.00s\n",
      "Presolved: 3 rows, 5 columns, 15 nonzeros\n",
      "\n",
      "Iteration    Objective       Primal Inf.    Dual Inf.      Time\n",
      "       0    1.3545833e+01   0.000000e+00   0.000000e+00      0s\n",
      "       0    1.3545833e+01   0.000000e+00   0.000000e+00      0s\n",
      "\n",
      "Solved in 0 iterations and 0.01 seconds (0.00 work units)\n",
      "Optimal objective  1.354583333e+01\n",
      "Termination: optimal\n",
      "x[0] = 1.354583e+01\n",
      "x[1] = 0.000000e+00\n",
      "x[2] = 0.000000e+00\n",
      "x[3] = 0.000000e+00\n",
      "x[4] = 0.000000e+00\n",
      "Obj = 1.354583e+01\n"
     ]
    }
   ],
   "source": [
    "# ─── Dimensiones ────────────────────────────────────────────────────────────────\n",
    "M, N = A_MinMax.shape  # M restricciones, N variables\n",
    "\n",
    "# ─── Crear modelo ───────────────────────────────────────────────────────────────\n",
    "m = pe.ConcreteModel()\n",
    "\n",
    "# Variables de decisión\n",
    "m.x = pe.Var(range(N), domain=pe.NonNegativeReals)\n",
    "m.y = pe.Var(range(N), domain=pe.NonNegativeReals)  # y[j] ≥ |x[j]|\n",
    "\n",
    "# ─── Función objetivo: maximizar cᵀx ─────────────────────────────────────────────\n",
    "m.obj = pe.Objective(expr=sum(c[j] * m.x[j] for j in range(N)), sense=pe.maximize)\n",
    "\n",
    "# ─── Relación y_j ≥ |x_j| ───────────────────────────────────────────────────────\n",
    "for j in range(N):\n",
    "    m.add_component(f\"abs_x_pos_{j}\", pe.Constraint(expr= m.y[j] >=  m.x[j]))\n",
    "    m.add_component(f\"abs_x_neg_{j}\", pe.Constraint(expr= m.y[j] >= -m.x[j]))\n",
    "\n",
    "# ─── Restricciones robustas (Soyster) ───────────────────────────────────────────\n",
    "for i in range(M):\n",
    "    nom = sum(A_MinMax[i, j] * m.x[j] for j in range(N))\n",
    "    dev = sum(A_hat_MinMax[i, j] * m.y[j] for j in range(N))\n",
    "    m.add_component(\n",
    "        f\"robust_con_{i}\",\n",
    "        pe.Constraint(expr= nom + dev <= b_media[i])\n",
    "    )\n",
    "\n",
    "# ─── Resolver el problema ───────────────────────────────────────────────────────\n",
    "solver = pe.SolverFactory('gurobi')\n",
    "result = solver.solve(m, tee=True)\n",
    "\n",
    "# ─── Mostrar resultados ─────────────────────────────────────────────────────────\n",
    "print(\"Termination:\", result.solver.termination_condition)\n",
    "if result.solver.termination_condition == pe.TerminationCondition.optimal:\n",
    "    for j in range(N):\n",
    "        x_val = pe.value(m.x[j])\n",
    "        print(f\"x[{j}] = {x_val:.6e}\")\n",
    "    print(f\"Obj = {pe.value(m.obj):.6e}\")\n",
    "else:\n",
    "    print(\"No se encontró solución óptima.\")"
   ]
  },
  {
   "cell_type": "markdown",
   "id": "468f7074",
   "metadata": {},
   "source": [
    "# Para b_max"
   ]
  },
  {
   "cell_type": "markdown",
   "id": "f38ac293",
   "metadata": {},
   "source": [
    "# Intervalo entorno a la media"
   ]
  },
  {
   "cell_type": "markdown",
   "id": "6505ae1b",
   "metadata": {},
   "source": [
    "Importar datos del problema"
   ]
  },
  {
   "cell_type": "code",
   "execution_count": 6,
   "id": "e22f50ee",
   "metadata": {},
   "outputs": [],
   "source": [
    "b_max = data['b_max'].flatten()"
   ]
  },
  {
   "cell_type": "code",
   "execution_count": 7,
   "id": "51347fa9",
   "metadata": {},
   "outputs": [
    {
     "name": "stdout",
     "output_type": "stream",
     "text": [
      "Read LP format model from file C:\\Users\\javie\\AppData\\Local\\Temp\\tmpcux13ecy.pyomo.lp\n",
      "Reading time = 0.02 seconds\n",
      "x1: 13 rows, 10 columns, 50 nonzeros\n",
      "Gurobi Optimizer version 12.0.2 build v12.0.2rc0 (win64 - Windows 11.0 (26100.2))\n",
      "\n",
      "CPU model: AMD Ryzen 7 5800H with Radeon Graphics, instruction set [SSE2|AVX|AVX2]\n",
      "Thread count: 8 physical cores, 16 logical processors, using up to 16 threads\n",
      "\n",
      "Academic license 2679891 - for non-commercial use only - registered to jc___@al.uloyola.es\n",
      "Optimize a model with 13 rows, 10 columns and 50 nonzeros\n",
      "Model fingerprint: 0x10c7ece4\n",
      "Coefficient statistics:\n",
      "  Matrix range     [1e-01, 7e+01]\n",
      "  Objective range  [1e+00, 1e+00]\n",
      "  Bounds range     [0e+00, 0e+00]\n",
      "  RHS range        [9e+01, 2e+03]\n",
      "Presolve removed 10 rows and 5 columns\n",
      "Presolve time: 0.00s\n",
      "Presolved: 3 rows, 5 columns, 15 nonzeros\n",
      "\n",
      "Iteration    Objective       Primal Inf.    Dual Inf.      Time\n",
      "       0    2.9145465e+01   0.000000e+00   0.000000e+00      0s\n",
      "       0    2.9145465e+01   0.000000e+00   0.000000e+00      0s\n",
      "\n",
      "Solved in 0 iterations and 0.00 seconds (0.00 work units)\n",
      "Optimal objective  2.914546537e+01\n",
      "Termination: optimal\n",
      "x[0] = 0.000000e+00\n",
      "x[1] = 0.000000e+00\n",
      "x[2] = 0.000000e+00\n",
      "x[3] = 0.000000e+00\n",
      "x[4] = 2.914547e+01\n",
      "Obj = 2.914547e+01\n"
     ]
    }
   ],
   "source": [
    "# ─── Dimensiones ────────────────────────────────────────────────────────────────\n",
    "M, N = A_media.shape  # M restricciones, N variables\n",
    "\n",
    "# ─── Crear modelo ───────────────────────────────────────────────────────────────\n",
    "m = pe.ConcreteModel()\n",
    "\n",
    "# Variables de decisión\n",
    "m.x = pe.Var(range(N), domain=pe.NonNegativeReals)\n",
    "m.y = pe.Var(range(N), domain=pe.NonNegativeReals)  # y[j] ≥ |x[j]|\n",
    "\n",
    "# ─── Función objetivo: maximizar cᵀx ─────────────────────────────────────────────\n",
    "m.obj = pe.Objective(expr=sum(c[j] * m.x[j] for j in range(N)), sense=pe.maximize)\n",
    "\n",
    "# ─── Relación y_j ≥ |x_j| ───────────────────────────────────────────────────────\n",
    "for j in range(N):\n",
    "    m.add_component(f\"abs_x_pos_{j}\", pe.Constraint(expr= m.y[j] >=  m.x[j]))\n",
    "    m.add_component(f\"abs_x_neg_{j}\", pe.Constraint(expr= m.y[j] >= -m.x[j]))\n",
    "\n",
    "# ─── Restricciones robustas (Soyster) ───────────────────────────────────────────\n",
    "for i in range(M):\n",
    "    nom = sum(A_media[i, j] * m.x[j] for j in range(N))\n",
    "    dev = sum(A_hat_media[i, j] * m.y[j] for j in range(N))\n",
    "    m.add_component(\n",
    "        f\"robust_con_{i}\",\n",
    "        pe.Constraint(expr= nom + dev <= b_max[i])\n",
    "    )\n",
    "\n",
    "# ─── Resolver el problema ───────────────────────────────────────────────────────\n",
    "solver = pe.SolverFactory('gurobi')\n",
    "result = solver.solve(m, tee=True)\n",
    "\n",
    "# ─── Mostrar resultados ─────────────────────────────────────────────────────────\n",
    "print(\"Termination:\", result.solver.termination_condition)\n",
    "if result.solver.termination_condition == pe.TerminationCondition.optimal:\n",
    "    for j in range(N):\n",
    "        x_val = pe.value(m.x[j])\n",
    "        print(f\"x[{j}] = {x_val:.6e}\")\n",
    "    print(f\"Obj = {pe.value(m.obj):.6e}\")\n",
    "else:\n",
    "    print(\"No se encontró solución óptima.\")"
   ]
  },
  {
   "cell_type": "markdown",
   "id": "7e40811e",
   "metadata": {},
   "source": [
    "# Intervalo [min max]"
   ]
  },
  {
   "cell_type": "code",
   "execution_count": 8,
   "id": "c0cbcb0d",
   "metadata": {},
   "outputs": [],
   "source": [
    "b_max = data['b_max'].flatten()"
   ]
  },
  {
   "cell_type": "code",
   "execution_count": 9,
   "id": "9dfc1fcd",
   "metadata": {},
   "outputs": [
    {
     "name": "stdout",
     "output_type": "stream",
     "text": [
      "Read LP format model from file C:\\Users\\javie\\AppData\\Local\\Temp\\tmpxpnsb68r.pyomo.lp\n",
      "Reading time = 0.01 seconds\n",
      "x1: 13 rows, 10 columns, 50 nonzeros\n",
      "Gurobi Optimizer version 12.0.2 build v12.0.2rc0 (win64 - Windows 11.0 (26100.2))\n",
      "\n",
      "CPU model: AMD Ryzen 7 5800H with Radeon Graphics, instruction set [SSE2|AVX|AVX2]\n",
      "Thread count: 8 physical cores, 16 logical processors, using up to 16 threads\n",
      "\n",
      "Academic license 2679891 - for non-commercial use only - registered to jc___@al.uloyola.es\n",
      "Optimize a model with 13 rows, 10 columns and 50 nonzeros\n",
      "Model fingerprint: 0xf4098e4c\n",
      "Coefficient statistics:\n",
      "  Matrix range     [1e+00, 7e+01]\n",
      "  Objective range  [1e+00, 1e+00]\n",
      "  Bounds range     [0e+00, 0e+00]\n",
      "  RHS range        [9e+01, 2e+03]\n",
      "Presolve removed 10 rows and 5 columns\n",
      "Presolve time: 0.00s\n",
      "Presolved: 3 rows, 5 columns, 15 nonzeros\n",
      "\n",
      "Iteration    Objective       Primal Inf.    Dual Inf.      Time\n",
      "       0    1.8266667e+01   8.746652e+00   0.000000e+00      0s\n",
      "       3    1.7978007e+01   0.000000e+00   0.000000e+00      0s\n",
      "\n",
      "Solved in 3 iterations and 0.01 seconds (0.00 work units)\n",
      "Optimal objective  1.797800687e+01\n",
      "Termination: optimal\n",
      "x[0] = 0.000000e+00\n",
      "x[1] = 0.000000e+00\n",
      "x[2] = 0.000000e+00\n",
      "x[3] = 0.000000e+00\n",
      "x[4] = 1.797801e+01\n",
      "Obj = 1.797801e+01\n"
     ]
    }
   ],
   "source": [
    "# ─── Dimensiones ────────────────────────────────────────────────────────────────\n",
    "M, N = A_MinMax.shape  # M restricciones, N variables\n",
    "\n",
    "# ─── Crear modelo ───────────────────────────────────────────────────────────────\n",
    "m = pe.ConcreteModel()\n",
    "\n",
    "# Variables de decisión\n",
    "m.x = pe.Var(range(N), domain=pe.NonNegativeReals)\n",
    "m.y = pe.Var(range(N), domain=pe.NonNegativeReals)  # y[j] ≥ |x[j]|\n",
    "\n",
    "# ─── Función objetivo: maximizar cᵀx ─────────────────────────────────────────────\n",
    "m.obj = pe.Objective(expr=sum(c[j] * m.x[j] for j in range(N)), sense=pe.maximize)\n",
    "\n",
    "# ─── Relación y_j ≥ |x_j| ───────────────────────────────────────────────────────\n",
    "for j in range(N):\n",
    "    m.add_component(f\"abs_x_pos_{j}\", pe.Constraint(expr= m.y[j] >=  m.x[j]))\n",
    "    m.add_component(f\"abs_x_neg_{j}\", pe.Constraint(expr= m.y[j] >= -m.x[j]))\n",
    "\n",
    "# ─── Restricciones robustas (Soyster) ───────────────────────────────────────────\n",
    "for i in range(M):\n",
    "    nom = sum(A_MinMax[i, j] * m.x[j] for j in range(N))\n",
    "    dev = sum(A_hat_MinMax[i, j] * m.y[j] for j in range(N))\n",
    "    m.add_component(\n",
    "        f\"robust_con_{i}\",\n",
    "        pe.Constraint(expr= nom + dev <= b_max[i])\n",
    "    )\n",
    "\n",
    "# ─── Resolver el problema ───────────────────────────────────────────────────────\n",
    "solver = pe.SolverFactory('gurobi')\n",
    "result = solver.solve(m, tee=True)\n",
    "\n",
    "# ─── Mostrar resultados ─────────────────────────────────────────────────────────\n",
    "print(\"Termination:\", result.solver.termination_condition)\n",
    "if result.solver.termination_condition == pe.TerminationCondition.optimal:\n",
    "    for j in range(N):\n",
    "        x_val = pe.value(m.x[j])\n",
    "        print(f\"x[{j}] = {x_val:.6e}\")\n",
    "    print(f\"Obj = {pe.value(m.obj):.6e}\")\n",
    "else:\n",
    "    print(\"No se encontró solución óptima.\")"
   ]
  }
 ],
 "metadata": {
  "kernelspec": {
   "display_name": "base",
   "language": "python",
   "name": "python3"
  },
  "language_info": {
   "codemirror_mode": {
    "name": "ipython",
    "version": 3
   },
   "file_extension": ".py",
   "mimetype": "text/x-python",
   "name": "python",
   "nbconvert_exporter": "python",
   "pygments_lexer": "ipython3",
   "version": "3.12.3"
  }
 },
 "nbformat": 4,
 "nbformat_minor": 5
}
