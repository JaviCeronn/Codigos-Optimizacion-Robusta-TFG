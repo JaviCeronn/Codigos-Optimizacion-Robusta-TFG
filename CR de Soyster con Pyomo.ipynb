{
 "cells": [
  {
   "cell_type": "code",
   "execution_count": 3,
   "id": "05c2220a",
   "metadata": {},
   "outputs": [],
   "source": [
    "import numpy as np\n",
    "import cvxpy as cp\n",
    "from scipy.io import loadmat\n",
    "import pyomo.environ as pe"
   ]
  },
  {
   "cell_type": "markdown",
   "id": "4e1ac6ac",
   "metadata": {},
   "source": [
    "# Intervalo entorno a la media"
   ]
  },
  {
   "cell_type": "markdown",
   "id": "95a30bf5",
   "metadata": {},
   "source": [
    "Importar datos del problema"
   ]
  },
  {
   "cell_type": "code",
   "execution_count": 4,
   "id": "ef5b367b",
   "metadata": {},
   "outputs": [],
   "source": [
    "data = loadmat(\"Datos_Manufacturing_media.mat\")\n",
    "A_media = data['A_media']\n",
    "A_hat_media = data['A_hat_media']\n",
    "b = data['b'].flatten()\n",
    "\n",
    "c = np.array([1.0,1.0,1.0,1.0,1.0]) "
   ]
  },
  {
   "cell_type": "code",
   "execution_count": 5,
   "id": "88adb4e0",
   "metadata": {},
   "outputs": [
    {
     "name": "stdout",
     "output_type": "stream",
     "text": [
      "Read LP format model from file C:\\Users\\javie\\AppData\\Local\\Temp\\tmp9dm48pa9.pyomo.lp\n",
      "Reading time = 0.00 seconds\n",
      "x1: 13 rows, 10 columns, 50 nonzeros\n",
      "Gurobi Optimizer version 12.0.2 build v12.0.2rc0 (win64 - Windows 11.0 (26100.2))\n",
      "\n",
      "CPU model: AMD Ryzen 7 5800H with Radeon Graphics, instruction set [SSE2|AVX|AVX2]\n",
      "Thread count: 8 physical cores, 16 logical processors, using up to 16 threads\n",
      "\n",
      "Academic license 2679891 - for non-commercial use only - registered to jc___@al.uloyola.es\n",
      "Optimize a model with 13 rows, 10 columns and 50 nonzeros\n",
      "Model fingerprint: 0x3c685446\n",
      "Coefficient statistics:\n",
      "  Matrix range     [1e-01, 7e+01]\n",
      "  Objective range  [1e+00, 1e+00]\n",
      "  Bounds range     [0e+00, 0e+00]\n",
      "  RHS range        [1e+02, 5e+02]\n",
      "Presolve removed 11 rows and 5 columns\n",
      "Presolve time: 0.00s\n",
      "Presolved: 2 rows, 5 columns, 10 nonzeros\n",
      "\n",
      "Iteration    Objective       Primal Inf.    Dual Inf.      Time\n",
      "       0    6.3822187e+00   0.000000e+00   0.000000e+00      0s\n",
      "       0    6.3822187e+00   0.000000e+00   0.000000e+00      0s\n",
      "\n",
      "Solved in 0 iterations and 0.01 seconds (0.00 work units)\n",
      "Optimal objective  6.382218694e+00\n",
      "Termination: optimal\n",
      "x[0] = 0.000000e+00\n",
      "x[1] = 0.000000e+00\n",
      "x[2] = 0.000000e+00\n",
      "x[3] = 0.000000e+00\n",
      "x[4] = 6.382219e+00\n",
      "Obj = 6.382219e+00\n"
     ]
    }
   ],
   "source": [
    "# ─── Dimensiones ────────────────────────────────────────────────────────────────\n",
    "M, N = A_media.shape  # M restricciones, N variables\n",
    "\n",
    "# ─── Crear modelo ───────────────────────────────────────────────────────────────\n",
    "m = pe.ConcreteModel()\n",
    "\n",
    "# Variables de decisión\n",
    "m.x = pe.Var(range(N), domain=pe.NonNegativeReals)\n",
    "m.y = pe.Var(range(N), domain=pe.NonNegativeReals)  # y[j] ≥ |x[j]|\n",
    "\n",
    "# ─── Función objetivo: maximizar cᵀx ─────────────────────────────────────────────\n",
    "m.obj = pe.Objective(expr=sum(c[j] * m.x[j] for j in range(N)), sense=pe.maximize)\n",
    "\n",
    "# ─── Relación y_j ≥ |x_j| ───────────────────────────────────────────────────────\n",
    "for j in range(N):\n",
    "    m.add_component(f\"abs_x_pos_{j}\", pe.Constraint(expr= m.y[j] >=  m.x[j]))\n",
    "    m.add_component(f\"abs_x_neg_{j}\", pe.Constraint(expr= m.y[j] >= -m.x[j]))\n",
    "\n",
    "# ─── Restricciones robustas (Soyster) ───────────────────────────────────────────\n",
    "for i in range(M):\n",
    "    nom = sum(A_media[i, j] * m.x[j] for j in range(N))\n",
    "    dev = sum(A_hat_media[i, j] * m.y[j] for j in range(N))\n",
    "    m.add_component(\n",
    "        f\"robust_con_{i}\",\n",
    "        pe.Constraint(expr= nom + dev <= b[i])\n",
    "    )\n",
    "\n",
    "# ─── Resolver el problema ───────────────────────────────────────────────────────\n",
    "solver = pe.SolverFactory('gurobi')\n",
    "result = solver.solve(m, tee=True)\n",
    "\n",
    "# ─── Mostrar resultados ─────────────────────────────────────────────────────────\n",
    "print(\"Termination:\", result.solver.termination_condition)\n",
    "if result.solver.termination_condition == pe.TerminationCondition.optimal:\n",
    "    for j in range(N):\n",
    "        x_val = pe.value(m.x[j])\n",
    "        print(f\"x[{j}] = {x_val:.6e}\")\n",
    "    print(f\"Obj = {pe.value(m.obj):.6e}\")\n",
    "else:\n",
    "    print(\"No se encontró solución óptima.\")"
   ]
  },
  {
   "cell_type": "markdown",
   "id": "0b61e395",
   "metadata": {},
   "source": [
    "# Intervalo [min max]"
   ]
  },
  {
   "cell_type": "code",
   "execution_count": 6,
   "id": "b8f13482",
   "metadata": {},
   "outputs": [],
   "source": [
    "data = loadmat(\"Datos_Manufacturing_MinMax.mat\")\n",
    "A_MinMax = data['A_MinMax']\n",
    "A_hat_MinMax = data['A_hat_MinMax']\n",
    "b = data['b'].flatten()\n",
    "\n",
    "c = np.array([1.0,1.0,1.0,1.0,1.0]) \n",
    "Gamma = 3\n",
    "tolerance = 1e-6\n",
    "max_iter = 30"
   ]
  },
  {
   "cell_type": "code",
   "execution_count": 7,
   "id": "06a00027",
   "metadata": {},
   "outputs": [
    {
     "name": "stdout",
     "output_type": "stream",
     "text": [
      "Read LP format model from file C:\\Users\\javie\\AppData\\Local\\Temp\\tmp7g7o603f.pyomo.lp\n",
      "Reading time = 0.01 seconds\n",
      "x1: 13 rows, 10 columns, 50 nonzeros\n",
      "Gurobi Optimizer version 12.0.2 build v12.0.2rc0 (win64 - Windows 11.0 (26100.2))\n",
      "\n",
      "CPU model: AMD Ryzen 7 5800H with Radeon Graphics, instruction set [SSE2|AVX|AVX2]\n",
      "Thread count: 8 physical cores, 16 logical processors, using up to 16 threads\n",
      "\n",
      "Academic license 2679891 - for non-commercial use only - registered to jc___@al.uloyola.es\n",
      "Optimize a model with 13 rows, 10 columns and 50 nonzeros\n"
     ]
    },
    {
     "name": "stdout",
     "output_type": "stream",
     "text": [
      "Model fingerprint: 0x9633eac8\n",
      "Coefficient statistics:\n",
      "  Matrix range     [1e+00, 7e+01]\n",
      "  Objective range  [1e+00, 1e+00]\n",
      "  Bounds range     [0e+00, 0e+00]\n",
      "  RHS range        [1e+02, 5e+02]\n",
      "Presolve removed 11 rows and 5 columns\n",
      "Presolve time: 0.00s\n",
      "Presolved: 2 rows, 5 columns, 10 nonzeros\n",
      "\n",
      "Iteration    Objective       Primal Inf.    Dual Inf.      Time\n",
      "       0    4.0000000e+00   0.000000e+00   0.000000e+00      0s\n",
      "       0    4.0000000e+00   0.000000e+00   0.000000e+00      0s\n",
      "\n",
      "Solved in 0 iterations and 0.01 seconds (0.00 work units)\n",
      "Optimal objective  4.000000000e+00\n",
      "Termination: optimal\n",
      "x[0] = 4.000000e+00\n",
      "x[1] = 0.000000e+00\n",
      "x[2] = 0.000000e+00\n",
      "x[3] = 0.000000e+00\n",
      "x[4] = 0.000000e+00\n",
      "Obj = 4.000000e+00\n"
     ]
    }
   ],
   "source": [
    "# ─── Dimensiones ────────────────────────────────────────────────────────────────\n",
    "M, N = A_MinMax.shape  # M restricciones, N variables\n",
    "\n",
    "# ─── Crear modelo ───────────────────────────────────────────────────────────────\n",
    "m = pe.ConcreteModel()\n",
    "\n",
    "# Variables de decisión\n",
    "m.x = pe.Var(range(N), domain=pe.NonNegativeReals)\n",
    "m.y = pe.Var(range(N), domain=pe.NonNegativeReals)  # y[j] ≥ |x[j]|\n",
    "\n",
    "# ─── Función objetivo: maximizar cᵀx ─────────────────────────────────────────────\n",
    "m.obj = pe.Objective(expr=sum(c[j] * m.x[j] for j in range(N)), sense=pe.maximize)\n",
    "\n",
    "# ─── Relación y_j ≥ |x_j| ───────────────────────────────────────────────────────\n",
    "for j in range(N):\n",
    "    m.add_component(f\"abs_x_pos_{j}\", pe.Constraint(expr= m.y[j] >=  m.x[j]))\n",
    "    m.add_component(f\"abs_x_neg_{j}\", pe.Constraint(expr= m.y[j] >= -m.x[j]))\n",
    "\n",
    "# ─── Restricciones robustas (Soyster) ───────────────────────────────────────────\n",
    "for i in range(M):\n",
    "    nom = sum(A_MinMax[i, j] * m.x[j] for j in range(N))\n",
    "    dev = sum(A_hat_MinMax[i, j] * m.y[j] for j in range(N))\n",
    "    m.add_component(\n",
    "        f\"robust_con_{i}\",\n",
    "        pe.Constraint(expr= nom + dev <= b[i])\n",
    "    )\n",
    "\n",
    "# ─── Resolver el problema ───────────────────────────────────────────────────────\n",
    "solver = pe.SolverFactory('gurobi')\n",
    "result = solver.solve(m, tee=True)\n",
    "\n",
    "# ─── Mostrar resultados ─────────────────────────────────────────────────────────\n",
    "print(\"Termination:\", result.solver.termination_condition)\n",
    "if result.solver.termination_condition == pe.TerminationCondition.optimal:\n",
    "    for j in range(N):\n",
    "        x_val = pe.value(m.x[j])\n",
    "        print(f\"x[{j}] = {x_val:.6e}\")\n",
    "    print(f\"Obj = {pe.value(m.obj):.6e}\")\n",
    "else:\n",
    "    print(\"No se encontró solución óptima.\")"
   ]
  }
 ],
 "metadata": {
  "kernelspec": {
   "display_name": "base",
   "language": "python",
   "name": "python3"
  },
  "language_info": {
   "codemirror_mode": {
    "name": "ipython",
    "version": 3
   },
   "file_extension": ".py",
   "mimetype": "text/x-python",
   "name": "python",
   "nbconvert_exporter": "python",
   "pygments_lexer": "ipython3",
   "version": "3.12.3"
  }
 },
 "nbformat": 4,
 "nbformat_minor": 5
}
