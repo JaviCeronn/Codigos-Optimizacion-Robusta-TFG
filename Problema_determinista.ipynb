{
 "cells": [
  {
   "cell_type": "code",
   "execution_count": 25,
   "id": "f16fdc3d",
   "metadata": {},
   "outputs": [],
   "source": [
    "import numpy as np\n",
    "import matplotlib.pyplot as plt\n",
    "import cvxpy as cp\n",
    "import numpy as np\n",
    "from scipy.io import loadmat"
   ]
  },
  {
   "cell_type": "markdown",
   "id": "306a9ae5",
   "metadata": {},
   "source": [
    "# Optimo determinista"
   ]
  },
  {
   "cell_type": "code",
   "execution_count": 26,
   "id": "61a41d6a",
   "metadata": {},
   "outputs": [],
   "source": [
    "data = loadmat(\"Datos_Manufacturing_media.mat\")\n",
    "A = data['A_media']\n",
    "b_media = data['b_media'].flatten()\n",
    "b_max = data['b_max'].flatten()\n",
    "\n",
    "c = np.array([1.0,1.0,1.0,1.0,1.0]) "
   ]
  },
  {
   "cell_type": "markdown",
   "id": "d73f1748",
   "metadata": {},
   "source": [
    "## Para b_max"
   ]
  },
  {
   "cell_type": "code",
   "execution_count": 27,
   "id": "9f4abbb0",
   "metadata": {},
   "outputs": [
    {
     "name": "stdout",
     "output_type": "stream",
     "text": [
      "Valor óptimo: 31.053151662996825\n",
      "Solución óptima x: [1.17094083e-06 5.55461758e-06 9.49485360e-07 1.22709889e+01\n",
      " 1.87821551e+01]\n"
     ]
    }
   ],
   "source": [
    "# Variables de decisión\n",
    "x = cp.Variable(5, nonneg=True)\n",
    "\n",
    "# Función objetivo\n",
    "objective = cp.Maximize(c @ x)\n",
    "\n",
    "# Restricciones\n",
    "constraints = [A_media @ x <= b_max,x >= 0]\n",
    "\n",
    "# Problema de optimización\n",
    "problem = cp.Problem(objective, constraints)\n",
    "problem.solve()\n",
    "\n",
    "# Resultados\n",
    "print(\"Valor óptimo:\", problem.value)\n",
    "print(\"Solución óptima x:\", x.value)"
   ]
  },
  {
   "cell_type": "markdown",
   "id": "8ec5c579",
   "metadata": {},
   "source": [
    "## Para b_media"
   ]
  },
  {
   "cell_type": "code",
   "execution_count": null,
   "id": "58ec7308",
   "metadata": {},
   "outputs": [
    {
     "name": "stdout",
     "output_type": "stream",
     "text": [
      "Valor óptimo: 23.152317173712316\n",
      "Solución óptima x: [2.44057677e-07 3.46334491e-08 8.23060150e-09 2.12646049e-08\n",
      " 2.31523169e+01]\n"
     ]
    },
    {
     "ename": "",
     "evalue": "",
     "output_type": "error",
     "traceback": [
      "\u001b[1;31mThe Kernel crashed while executing code in the current cell or a previous cell. \n",
      "\u001b[1;31mPlease review the code in the cell(s) to identify a possible cause of the failure. \n",
      "\u001b[1;31mClick <a href='https://aka.ms/vscodeJupyterKernelCrash'>here</a> for more info. \n",
      "\u001b[1;31mView Jupyter <a href='command:jupyter.viewOutput'>log</a> for further details."
     ]
    }
   ],
   "source": [
    "# Variables de decisión\n",
    "x = cp.Variable(5, nonneg=True)\n",
    "\n",
    "# Función objetivo\n",
    "objective = cp.Maximize(c @ x)\n",
    "\n",
    "# Restricciones\n",
    "constraints = [A_media @ x <= b_media,x >= 0]\n",
    "\n",
    "# Problema de optimización\n",
    "problem = cp.Problem(objective, constraints)\n",
    "problem.solve()\n",
    "\n",
    "# Resultados\n",
    "print(\"Valor óptimo:\", problem.value)\n",
    "print(\"Solución óptima x:\", x.value)"
   ]
  }
 ],
 "metadata": {
  "kernelspec": {
   "display_name": "base",
   "language": "python",
   "name": "python3"
  },
  "language_info": {
   "codemirror_mode": {
    "name": "ipython",
    "version": 3
   },
   "file_extension": ".py",
   "mimetype": "text/x-python",
   "name": "python",
   "nbconvert_exporter": "python",
   "pygments_lexer": "ipython3",
   "version": "3.12.3"
  }
 },
 "nbformat": 4,
 "nbformat_minor": 5
}
