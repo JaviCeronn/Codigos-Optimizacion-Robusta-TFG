{
 "cells": [
  {
   "cell_type": "code",
   "execution_count": 6,
   "id": "f16fdc3d",
   "metadata": {},
   "outputs": [],
   "source": [
    "import numpy as np\n",
    "import matplotlib.pyplot as plt\n",
    "import cvxpy as cp\n",
    "import numpy as np\n",
    "from scipy.io import loadmat"
   ]
  },
  {
   "cell_type": "markdown",
   "id": "306a9ae5",
   "metadata": {},
   "source": [
    "Optimo determinista con la media"
   ]
  },
  {
   "cell_type": "code",
   "execution_count": 17,
   "id": "61a41d6a",
   "metadata": {},
   "outputs": [],
   "source": [
    "data = loadmat(\"Datos_Manufacturing_media.mat\")\n",
    "A = data['A_media']\n",
    "A_hat = data['A_hat_media']\n",
    "b = data['b'].flatten()\n",
    "\n",
    "c = np.array([1.0,1.0,1.0,1.0,1.0]) "
   ]
  },
  {
   "cell_type": "code",
   "execution_count": 18,
   "id": "9f4abbb0",
   "metadata": {},
   "outputs": [
    {
     "name": "stdout",
     "output_type": "stream",
     "text": [
      "Valor óptimo: 6.836734690673638\n",
      "Solución óptima x: [1.06826587e-07 4.12233550e-08 1.23431229e-08 6.16125784e-08\n",
      " 6.83673447e+00]\n"
     ]
    }
   ],
   "source": [
    "# Variables de decisión\n",
    "x = cp.Variable(5, nonneg=True)\n",
    "\n",
    "# Función objetivo\n",
    "objective = cp.Maximize(c @ x)\n",
    "\n",
    "# Restricciones\n",
    "constraints = [A_media @ x <= b]\n",
    "\n",
    "# Problema de optimización\n",
    "problem = cp.Problem(objective, constraints)\n",
    "problem.solve()\n",
    "\n",
    "# Resultados\n",
    "print(\"Valor óptimo:\", problem.value)\n",
    "print(\"Solución óptima x:\", x.value)"
   ]
  }
 ],
 "metadata": {
  "kernelspec": {
   "display_name": "base",
   "language": "python",
   "name": "python3"
  },
  "language_info": {
   "codemirror_mode": {
    "name": "ipython",
    "version": 3
   },
   "file_extension": ".py",
   "mimetype": "text/x-python",
   "name": "python",
   "nbconvert_exporter": "python",
   "pygments_lexer": "ipython3",
   "version": "3.12.3"
  }
 },
 "nbformat": 4,
 "nbformat_minor": 5
}
